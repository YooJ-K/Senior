{
  "nbformat": 4,
  "nbformat_minor": 0,
  "metadata": {
    "colab": {
      "name": "Model_Make.ipynb",
      "provenance": [],
      "collapsed_sections": []
    },
    "kernelspec": {
      "name": "python3",
      "display_name": "Python 3"
    },
    "language_info": {
      "name": "python"
    }
  },
  "cells": [
    {
      "cell_type": "code",
      "metadata": {
        "colab": {
          "base_uri": "https://localhost:8080/"
        },
        "id": "JZbOAZqwZnO3",
        "outputId": "9f2aa24e-cfcb-4af8-f48a-88bdaac1b183"
      },
      "source": [
        "# google colab Mounting\n",
        "from google.colab import drive\n",
        "drive.mount('/content/drive')"
      ],
      "execution_count": 3,
      "outputs": [
        {
          "output_type": "stream",
          "name": "stdout",
          "text": [
            "Drive already mounted at /content/drive; to attempt to forcibly remount, call drive.mount(\"/content/drive\", force_remount=True).\n"
          ]
        }
      ]
    },
    {
      "cell_type": "code",
      "metadata": {
        "id": "UtbIFWEEZ7Qk"
      },
      "source": [
        "# tf 불러오기\n",
        "import tensorflow as tf\n",
        "from tensorflow.keras import Input, models, layers\n",
        "from nltk.tokenize import word_tokenize  "
      ],
      "execution_count": 1,
      "outputs": []
    },
    {
      "cell_type": "code",
      "metadata": {
        "id": "WH8HqSUXaADa"
      },
      "source": [
        "# 파이썬 \n",
        "import numpy as np\n",
        "import matplotlib.pyplot as plt\n",
        "import matplotlib.image as mpimg\n",
        "from PIL import Image\n",
        "import pandas as pd\n",
        "import random"
      ],
      "execution_count": 2,
      "outputs": []
    },
    {
      "cell_type": "code",
      "metadata": {
        "id": "B0IiR2vuarKC"
      },
      "source": [
        "# csv 파일 읽어오기\n",
        "\n",
        "train = pd.read_csv(\"/content/drive/MyDrive/homework_1/emnist-letters-train.csv\", header=None, index_col=False)\n",
        "test = pd.read_csv(\"/content/drive/MyDrive/homework_1/emnist-letters-test.csv\", header=None, index_col=False)"
      ],
      "execution_count": 3,
      "outputs": []
    },
    {
      "cell_type": "code",
      "metadata": {
        "id": "2ZA-Jg1ggElV"
      },
      "source": [
        "# y_train, y_test은 1개의 레이블 데이터셋, 1부터 26까지 26개의 철자\n",
        "x_train, y_train = train.drop([0], axis = 1), train[0]\n",
        "x_test, y_test = test.drop([0], axis = 1), test[0]"
      ],
      "execution_count": 4,
      "outputs": []
    },
    {
      "cell_type": "code",
      "metadata": {
        "id": "wsBq4u-3iJdb"
      },
      "source": [
        "# 각 데이터 포인트는 0~784 사이 값을 가지고 있어 Normalization 해줘야한다.\n",
        "x_train, x_test = x_train / 784.0, x_test / 784.0"
      ],
      "execution_count": 5,
      "outputs": []
    },
    {
      "cell_type": "code",
      "metadata": {
        "id": "nPxhdn005zmW"
      },
      "source": [
        "# tf.reshape\n",
        "x_train = tf.reshape(x_train, (88800, 28, 28, 1))\n",
        "x_test = tf.reshape(x_test, (14800, 28, 28, 1))\n",
        "\n",
        "y_train = tf.reshape(y_train, (88800, 1, 1, 1))\n",
        "y_test = tf.reshape(y_test, (14800, 1, 1, 1))"
      ],
      "execution_count": 6,
      "outputs": []
    },
    {
      "cell_type": "code",
      "metadata": {
        "id": "VKwpsR3pbfG6",
        "colab": {
          "base_uri": "https://localhost:8080/"
        },
        "outputId": "921d2dfb-cc50-409d-a74c-f88956fa80fe"
      },
      "source": [
        "# Model\n",
        "# Conv2D layer에서, 7 by 7 size의 kernel 사용\n",
        "# Maxpooling layer에서 5 by 5 size의 kernel 사용\n",
        "# Conv2D layer와 Maxpooling layer를 각각 2개 이상 사용\n",
        "\n",
        "# 3개, 2개 학습했을 때에 비해 2개, 2개로 학습했을 때가 더 정확도가 높아 2개 2개 사용\n",
        "\n",
        "model = models.Sequential()\n",
        "\n",
        "model.add(layers.Conv2D(10, (7, 7), activation='relu', input_shape=(28, 28, 1)))\n",
        "model.add(layers.MaxPooling2D((5, 5), strides=1))\n",
        "\n",
        "model.add(layers.Conv2D(10, (7, 7), activation='relu'))\n",
        "model.add(layers.MaxPooling2D((5, 5), strides=1))\n",
        "\n",
        "model.add(layers.Flatten())\n",
        "model.add(layers.Dense(128, activation='relu'))\n",
        "model.add(layers.Dropout(0.2))\n",
        "model.add(layers.Dense(27, activation='softmax'))\n",
        "\n",
        "model.summary()"
      ],
      "execution_count": 7,
      "outputs": [
        {
          "output_type": "stream",
          "name": "stdout",
          "text": [
            "Model: \"sequential\"\n",
            "_________________________________________________________________\n",
            "Layer (type)                 Output Shape              Param #   \n",
            "=================================================================\n",
            "conv2d (Conv2D)              (None, 22, 22, 10)        500       \n",
            "_________________________________________________________________\n",
            "max_pooling2d (MaxPooling2D) (None, 18, 18, 10)        0         \n",
            "_________________________________________________________________\n",
            "conv2d_1 (Conv2D)            (None, 12, 12, 10)        4910      \n",
            "_________________________________________________________________\n",
            "max_pooling2d_1 (MaxPooling2 (None, 8, 8, 10)          0         \n",
            "_________________________________________________________________\n",
            "flatten (Flatten)            (None, 640)               0         \n",
            "_________________________________________________________________\n",
            "dense (Dense)                (None, 128)               82048     \n",
            "_________________________________________________________________\n",
            "dropout (Dropout)            (None, 128)               0         \n",
            "_________________________________________________________________\n",
            "dense_1 (Dense)              (None, 27)                3483      \n",
            "=================================================================\n",
            "Total params: 90,941\n",
            "Trainable params: 90,941\n",
            "Non-trainable params: 0\n",
            "_________________________________________________________________\n"
          ]
        }
      ]
    },
    {
      "cell_type": "code",
      "metadata": {
        "id": "EmRYFnO94TPF"
      },
      "source": [
        "# 모델 컴파일\n",
        "\n",
        "model.compile(optimizer='adam',\n",
        "              loss='sparse_categorical_crossentropy',\n",
        "              metrics=['accuracy'])"
      ],
      "execution_count": 8,
      "outputs": []
    },
    {
      "cell_type": "code",
      "metadata": {
        "colab": {
          "base_uri": "https://localhost:8080/"
        },
        "id": "6p-qhdLF4UzT",
        "outputId": "41620efa-137f-4e38-e50d-e573b88d8426"
      },
      "source": [
        "# 모델 학습\n",
        "\n",
        "model.fit(x_train, y_train, epochs=10, batch_size=100)"
      ],
      "execution_count": 9,
      "outputs": [
        {
          "output_type": "stream",
          "name": "stdout",
          "text": [
            "Epoch 1/10\n",
            "888/888 [==============================] - 100s 112ms/step - loss: 1.1078 - accuracy: 0.0447\n",
            "Epoch 2/10\n",
            "888/888 [==============================] - 100s 112ms/step - loss: 0.5484 - accuracy: 0.0463\n",
            "Epoch 3/10\n",
            "888/888 [==============================] - 99s 112ms/step - loss: 0.4589 - accuracy: 0.0467\n",
            "Epoch 4/10\n",
            "888/888 [==============================] - 99s 111ms/step - loss: 0.4170 - accuracy: 0.0466\n",
            "Epoch 5/10\n",
            "888/888 [==============================] - 99s 111ms/step - loss: 0.3841 - accuracy: 0.0468\n",
            "Epoch 6/10\n",
            "888/888 [==============================] - 99s 111ms/step - loss: 0.3691 - accuracy: 0.0469\n",
            "Epoch 7/10\n",
            "888/888 [==============================] - 99s 111ms/step - loss: 0.3514 - accuracy: 0.0470\n",
            "Epoch 8/10\n",
            "888/888 [==============================] - 98s 111ms/step - loss: 0.3399 - accuracy: 0.0469\n",
            "Epoch 9/10\n",
            "888/888 [==============================] - 98s 111ms/step - loss: 0.3298 - accuracy: 0.0470\n",
            "Epoch 10/10\n",
            "888/888 [==============================] - 98s 110ms/step - loss: 0.3240 - accuracy: 0.0470\n"
          ]
        },
        {
          "output_type": "execute_result",
          "data": {
            "text/plain": [
              "<keras.callbacks.History at 0x7efe5aa1d150>"
            ]
          },
          "metadata": {},
          "execution_count": 9
        }
      ]
    },
    {
      "cell_type": "code",
      "metadata": {
        "id": "0dzu-pg3b0Pv",
        "colab": {
          "base_uri": "https://localhost:8080/"
        },
        "outputId": "5bd6c5ab-7382-4ebf-8f96-b1dd02ca5962"
      },
      "source": [
        "# 모델 정확도 및 loss 확인\n",
        "\n",
        "model.evaluate(x_test,  y_test, verbose=10)"
      ],
      "execution_count": 10,
      "outputs": [
        {
          "output_type": "execute_result",
          "data": {
            "text/plain": [
              "[0.3244353234767914, 0.890515148639679]"
            ]
          },
          "metadata": {},
          "execution_count": 10
        }
      ]
    },
    {
      "cell_type": "code",
      "metadata": {
        "colab": {
          "base_uri": "https://localhost:8080/"
        },
        "id": "4CivjkPcEASq",
        "outputId": "0651f21e-9d91-46f8-e2b3-1932da675dc8"
      },
      "source": [
        "# test data 셋에서 무작위 데이터 10개를 구현한 모델로 예측\n",
        "\n",
        "random_data_10 = random.sample(range(14800), 10)\n",
        "print(random_data_10)"
      ],
      "execution_count": 11,
      "outputs": [
        {
          "output_type": "stream",
          "name": "stdout",
          "text": [
            "[3972, 10733, 4897, 5426, 7985, 14790, 2580, 10530, 7309, 9568]\n"
          ]
        }
      ]
    },
    {
      "cell_type": "code",
      "metadata": {
        "id": "w2UVPXT7b4rI",
        "colab": {
          "base_uri": "https://localhost:8080/",
          "height": 1000
        },
        "outputId": "62ae15fb-0897-4f33-f68b-9c528541c1a9"
      },
      "source": [
        "# 예측한 data의 accuracy를 출력\n",
        "# 예측한 값과 test data를 pyplot으로 출력\n",
        "model_predicted = model.predict(x_test, verbose=0).argmax(axis = 1)\n",
        "alphabet = [chr(i) for i in range(65, 91)]\n",
        "for num in range(10):\n",
        "  fig = plt.figure(figsize = (10,3))\n",
        "  image = x_test[random_data_10[num]]\n",
        "  plt.imshow(image[:,:,0],cmap='Greys')\n",
        "  plt.axis('off')\n",
        "  plt.show()\n",
        "  print(\"Predicted value : \", alphabet[model_predicted[random_data_10[num]]-1])"
      ],
      "execution_count": 12,
      "outputs": [
        {
          "output_type": "display_data",
          "data": {
            "image/png": "[encoded data removed]",
            "text/plain": [
              "<Figure size 720x216 with 1 Axes>"
            ]
          },
          "metadata": {
            "needs_background": "light"
          }
        },
        {
          "output_type": "stream",
          "name": "stdout",
          "text": [
            "Predicted value :  E\n"
          ]
        },
        {
          "output_type": "display_data",
          "data": {
            "image/png": "[encoded data removed]",
            "text/plain": [
              "<Figure size 720x216 with 1 Axes>"
            ]
          },
          "metadata": {
            "needs_background": "light"
          }
        },
        {
          "output_type": "stream",
          "name": "stdout",
          "text": [
            "Predicted value :  N\n"
          ]
        },
        {
          "output_type": "display_data",
          "data": {
            "image/png": "[encoded data removed]",
            "text/plain": [
              "<Figure size 720x216 with 1 Axes>"
            ]
          },
          "metadata": {
            "needs_background": "light"
          }
        },
        {
          "output_type": "stream",
          "name": "stdout",
          "text": [
            "Predicted value :  G\n"
          ]
        },
        {
          "output_type": "display_data",
          "data": {
            "image/png": "[encoded data removed]",
            "text/plain": [
              "<Figure size 720x216 with 1 Axes>"
            ]
          },
          "metadata": {
            "needs_background": "light"
          }
        },
        {
          "output_type": "stream",
          "name": "stdout",
          "text": [
            "Predicted value :  G\n"
          ]
        },
        {
          "output_type": "display_data",
          "data": {
            "image/png": "[encoded data removed]",
            "text/plain": [
              "<Figure size 720x216 with 1 Axes>"
            ]
          },
          "metadata": {
            "needs_background": "light"
          }
        },
        {
          "output_type": "stream",
          "name": "stdout",
          "text": [
            "Predicted value :  J\n"
          ]
        },
        {
          "output_type": "display_data",
          "data": {
            "image/png": "[encoded data removed]",
            "text/plain": [
              "<Figure size 720x216 with 1 Axes>"
            ]
          },
          "metadata": {
            "needs_background": "light"
          }
        },
        {
          "output_type": "stream",
          "name": "stdout",
          "text": [
            "Predicted value :  S\n"
          ]
        },
        {
          "output_type": "display_data",
          "data": {
            "image/png": "[encoded data removed]",
            "text/plain": [
              "<Figure size 720x216 with 1 Axes>"
            ]
          },
          "metadata": {
            "needs_background": "light"
          }
        },
        {
          "output_type": "stream",
          "name": "stdout",
          "text": [
            "Predicted value :  D\n"
          ]
        },
        {
          "output_type": "display_data",
          "data": {
            "image/png": "[encoded data removed]",
            "text/plain": [
              "<Figure size 720x216 with 1 Axes>"
            ]
          },
          "metadata": {
            "needs_background": "light"
          }
        },
        {
          "output_type": "stream",
          "name": "stdout",
          "text": [
            "Predicted value :  N\n"
          ]
        },
        {
          "output_type": "display_data",
          "data": {
            "image/png": "[encoded data removed]",
            "text/plain": [
              "<Figure size 720x216 with 1 Axes>"
            ]
          },
          "metadata": {
            "needs_background": "light"
          }
        },
        {
          "output_type": "stream",
          "name": "stdout",
          "text": [
            "Predicted value :  J\n"
          ]
        },
        {
          "output_type": "display_data",
          "data": {
            "image/png": "[encoded data removed]",
            "text/plain": [
              "<Figure size 720x216 with 1 Axes>"
            ]
          },
          "metadata": {
            "needs_background": "light"
          }
        },
        {
          "output_type": "stream",
          "name": "stdout",
          "text": [
            "Predicted value :  L\n"
          ]
        }
      ]
    }
  ]
}